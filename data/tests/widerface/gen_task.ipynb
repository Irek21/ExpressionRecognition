{
 "cells": [
  {
   "cell_type": "code",
   "execution_count": 1,
   "id": "a9dffde6",
   "metadata": {},
   "outputs": [],
   "source": [
    "import numpy as np\n",
    "import cv2\n",
    "import pickle as pkl\n",
    "import os\n",
    "import shutil"
   ]
  },
  {
   "cell_type": "code",
   "execution_count": 2,
   "id": "1bd7488a",
   "metadata": {},
   "outputs": [],
   "source": [
    "num = 30"
   ]
  },
  {
   "cell_type": "code",
   "execution_count": 3,
   "id": "c544c423",
   "metadata": {},
   "outputs": [],
   "source": [
    "outsourced = set()\n",
    "\n",
    "with open('wider_val_boxed_anns/outsourced', 'wb+') as f:\n",
    "    pkl.dump(outsourced, f)"
   ]
  },
  {
   "cell_type": "code",
   "execution_count": 4,
   "id": "7e73b14a",
   "metadata": {},
   "outputs": [],
   "source": [
    "with open('wider_val_boxed_anns/outsourced', 'rb') as f:\n",
    "    outsourced = pkl.load(f)\n",
    "    \n",
    "with open('wider_val_boxed_anns/not_annotated', 'rb') as f:\n",
    "    actual = pkl.load(f)"
   ]
  },
  {
   "cell_type": "code",
   "execution_count": 5,
   "id": "c1e834ff",
   "metadata": {},
   "outputs": [],
   "source": [
    "actual_files = actual - outsourced\n",
    "\n",
    "actual_files = np.array(list(actual_files))[np.random.permutation(len(actual_files))]"
   ]
  },
  {
   "cell_type": "code",
   "execution_count": 6,
   "id": "a680f804",
   "metadata": {},
   "outputs": [],
   "source": [
    "for file in actual_files[:num]:\n",
    "    shutil.copyfile('WIDER_val_boxed/images/' + file, 'task/images/' + file)\n",
    "shutil.copyfile('annotating.py', 'task/annotating.py')"
   ]
  },
  {
   "cell_type": "code",
   "execution_count": 21,
   "id": "cce3ef75",
   "metadata": {},
   "outputs": [],
   "source": [
    "outsourced |= set(actual_files[:num])\n",
    "\n",
    "with open('wider_val_boxed_anns/outsourced', 'wb+') as f:\n",
    "    pkl.dump(outsourced, f)"
   ]
  },
  {
   "cell_type": "code",
   "execution_count": null,
   "id": "bf3c9195",
   "metadata": {},
   "outputs": [],
   "source": []
  }
 ],
 "metadata": {
  "kernelspec": {
   "display_name": "Python 3 (ipykernel)",
   "language": "python",
   "name": "python3"
  },
  "language_info": {
   "codemirror_mode": {
    "name": "ipython",
    "version": 3
   },
   "file_extension": ".py",
   "mimetype": "text/x-python",
   "name": "python",
   "nbconvert_exporter": "python",
   "pygments_lexer": "ipython3",
   "version": "3.8.0"
  }
 },
 "nbformat": 4,
 "nbformat_minor": 5
}
